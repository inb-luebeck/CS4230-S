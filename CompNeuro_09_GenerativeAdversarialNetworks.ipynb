{
  "nbformat": 4,
  "nbformat_minor": 0,
  "metadata": {
    "colab": {
      "provenance": []
    },
    "kernelspec": {
      "name": "python3",
      "display_name": "Python 3"
    },
    "language_info": {
      "name": "python"
    }
  },
  "cells": [
    {
      "cell_type": "code",
      "execution_count": null,
      "metadata": {
        "id": "TtKVwgDRUfT2"
      },
      "outputs": [],
      "source": [
        "import torch\n",
        "import torch.nn as nn\n",
        "import matplotlib.pyplot as plt\n",
        "!wget -nc https://raw.githubusercontent.com/inb-luebeck/CS4230-S/main/utils/utils_gan.py\n",
        "!wget -nc https://github.com/inb-luebeck/CS4230-S/raw/main/generator.pth\n",
        "device = \"cuda\" if torch.cuda.is_available() else \"cpu\"\n",
        "\n",
        "from utils_gan import Generator\n",
        "generator = Generator()\n",
        "generator.load_state_dict(torch.load(\"generator.pth\", map_location=device))"
      ]
    },
    {
      "cell_type": "code",
      "source": [
        "name = \"Olli\"\n",
        "seed = sum([ord(b) for b in name.upper()])\n",
        "torch.manual_seed(seed)\n",
        "\n",
        "inputnoise = torch.randn([100, 128])[ord(name.upper()[-1])%100]\n",
        "plt.figure()\n",
        "plt.imshow(generator(inputnoise)[0,0].detach().cpu().numpy())\n",
        "plt.title(name)\n",
        "plt.show()"
      ],
      "metadata": {
        "id": "uTCk-S8UaPKj"
      },
      "execution_count": null,
      "outputs": []
    }
  ]
}