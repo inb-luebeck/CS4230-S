{
  "nbformat": 4,
  "nbformat_minor": 0,
  "metadata": {
    "colab": {
      "provenance": []
    },
    "kernelspec": {
      "name": "python3",
      "display_name": "Python 3"
    },
    "language_info": {
      "name": "python"
    }
  },
  "cells": [
    {
      "cell_type": "markdown",
      "source": [
        "# Einfluss von Tiefe und Breite eines MLPs\n"
      ],
      "metadata": {
        "id": "ZAPaPGWKgNln"
      }
    },
    {
      "cell_type": "code",
      "execution_count": null,
      "metadata": {
        "id": "qQO5nCe_gFki"
      },
      "outputs": [],
      "source": [
        "# Importiere Zeugs und lade Utilities\n",
        "import torch\n",
        "import matplotlib.pyplot as plt\n",
        "from tqdm.auto import trange\n",
        "! wget -nc https://raw.githubusercontent.com/inb-luebeck/CS4230-S/main/utils/utils_mlp.py\n",
        "from utils_mlp import MLP, generate_plot\n",
        "\n",
        "# Generiere Datensatz (Two Spiral Problem)\n",
        "n_data = 500\n",
        "base = torch.linspace(-1,1, steps=n_data)*torch.pi*2\n",
        "radius = torch.linspace(0.5,3, steps=n_data)\n",
        "data = torch.stack([torch.sin(base)*radius, torch.cos(base)*radius]).T\n",
        "data = torch.row_stack([data[::2], data[1::2]])\n",
        "data += 0.13*torch.randn([n_data, 2])\n",
        "m1 = torch.tensor([0,-1])\n",
        "m2 = torch.tensor([-0.5,0])\n",
        "data[::2] *= -1 \n",
        "label = torch.tensor(int(n_data/2)*[0,1])\n",
        "\n",
        "# Plotte Daten\n",
        "plt.figure()\n",
        "plt.plot(data[label==0, 0], data[label==0, 1], \"b.\")\n",
        "plt.plot(data[label==1, 0], data[label==1, 1], \"r.\")\n",
        "plt.axis(\"equal\")\n",
        "plt.show()"
      ]
    },
    {
      "cell_type": "code",
      "source": [
        "# --- Hier können die Hyperparameter angepasst werden ---\n",
        "n_epochs = 1000\n",
        "innerdim = 2\n",
        "n_hidden = 1\n",
        "learningrate = 1e-3\n",
        "# -------------------------------------------------------\n",
        "\n",
        "# Initialisiere Model, Optimierer und Lossfunktion\n",
        "model = MLP(innerdim=innerdim, n_hidden=n_hidden)\n",
        "criterion = torch.nn.BCELoss()\n",
        "optimizer = torch.optim.Adam(model.parameters(), lr=learningrate)\n",
        "losslist = torch.zeros(n_epochs)\n",
        "\n",
        "# Training\n",
        "for epoch in trange(n_epochs):\n",
        "    optimizer.zero_grad()\n",
        "    out = model(data)\n",
        "    loss = criterion(out, label[:,None].float())\n",
        "    loss.backward()\n",
        "    optimizer.step()\n",
        "    losslist[epoch] = loss.item()\n",
        "\n",
        "img_plot, data_plot = generate_plot(model, data)\n",
        "\n",
        "# Plotte Ergebnisse\n",
        "plt.figure(figsize=[13,5])\n",
        "plt.subplot(1,2,1)\n",
        "plt.plot(losslist)\n",
        "plt.subplot(1,2,2)\n",
        "plt.imshow(img_plot.detach().numpy())\n",
        "plt.plot(data_plot[label==0, 0], data_plot[label==0, 1], \"b.\")\n",
        "plt.plot(data_plot[label==1, 0], data_plot[label==1, 1], \"r.\")\n",
        "plt.show()\n",
        "# Hinweis: Die zwei Spiralen scheinen andersrum zu drehen als beim Initialisieren \n",
        "#     oben! Das liegt allerdings nur an der Darstellung im Bild. Die Datenpunkte\n",
        "#     sind trotzdem dieselben."
      ],
      "metadata": {
        "id": "r7qY9xC-gUNv"
      },
      "execution_count": null,
      "outputs": []
    }
  ]
}