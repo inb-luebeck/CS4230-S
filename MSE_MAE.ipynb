{
  "nbformat": 4,
  "nbformat_minor": 0,
  "metadata": {
    "colab": {
      "provenance": []
    },
    "kernelspec": {
      "name": "python3",
      "display_name": "Python 3"
    },
    "language_info": {
      "name": "python"
    }
  },
  "cells": [
    {
      "cell_type": "code",
      "execution_count": null,
      "metadata": {
        "id": "DLJm9a-VgZ0W"
      },
      "outputs": [],
      "source": [
        "import torch\n",
        "import matplotlib.pyplot as plt\n",
        "from tqdm.auto import trange\n",
        "\n",
        "torch.manual_seed(6)\n",
        "data = torch.randn(150, 2)\n",
        "data[:20] += torch.tensor([7,0])\n",
        "data[20:100] += torch.tensor([0,7])\n",
        "\n",
        "point = torch.nn.Parameter(5*torch.ones([1,2], requires_grad=True))\n",
        "point = torch.nn.Parameter(10*torch.rand([1,2], requires_grad=True))\n",
        "mse = lambda x, y: torch.mean(torch.sum((x-y)**2, axis=-1))\n",
        "mae = lambda x, y: torch.mean(torch.sum(torch.abs(x-y), axis=-1))\n",
        "\n",
        "# ------------------------------------------------\n",
        "# --- Hier kann MAE oder MSE ausgewählt werden ---\n",
        "criterion = mae # Mean Absolut Error, L1-Loss\n",
        "#criterion = mse # Mean Squared Error, L2-Loss\n",
        "# ------------------------------------------------\n",
        "print(mse(data, point))\n",
        "print(mae(data, point))\n",
        "\n",
        "n_epochs = 20\n",
        "lr = 1e-1\n",
        "losses = [criterion(data, point).detach()]\n",
        "points = [point.clone()]\n",
        "n_batches = 50\n",
        "for epoch in trange(n_epochs):\n",
        "    if epoch%5==0:\n",
        "        lr /= 2\n",
        "    batches = torch.reshape(data[torch.randperm(len(data))], (n_batches,-1,2))\n",
        "    l = 0\n",
        "    for batch in batches:\n",
        "        point.grad = None\n",
        "        #loss = 0\n",
        "        loss = criterion(batch, point)\n",
        "        loss.backward()\n",
        "        #print(\"p\", point)\n",
        "        #print(\"dp\", point.grad)\n",
        "        #print(\"loss\", loss)\n",
        "        point.data.add_(-lr*point.grad)\n",
        "        l += loss.detach()\n",
        "    points.append(point.clone())\n",
        "    losses.append(l/n_batches)\n",
        "points = torch.stack(points).squeeze().detach().cpu().numpy()\n",
        "\n",
        "plt.figure()\n",
        "plt.plot(data[:,0], data[:,1], \".\")\n",
        "plt.plot(points[:,0], points[:,1], \"-\")\n",
        "mittelwert = torch.mean(data, axis=0)\n",
        "median = torch.median(data, axis=0)\n",
        "print(mittelwert)\n",
        "print(median)\n",
        "plt.plot(mittelwert[0], mittelwert[1], \"rx\")\n",
        "plt.plot(median.values[0], median.values[1], \"gx\")\n",
        "plt.show()\n",
        "\n",
        "plt.figure()\n",
        "plt.plot(losses)\n",
        "plt.show()"
      ]
    }
  ]
}