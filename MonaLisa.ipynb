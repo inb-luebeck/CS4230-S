{
  "cells": [
    {
      "cell_type": "markdown",
      "metadata": {
        "id": "U52QNxZ-FhGS"
      },
      "source": [
        "# Mona Lisa durch \"Mutationen\"\n",
        "In diesem Notebook soll das gelernte Wissen über Numpy aus dem Seminar vertieft werden.\n",
        "\n",
        "Ziel ist es, die Mona Lisa möglichst gut zu reproduzieren. Hierbei wird begonnen mit einem zufällig initialisierten Bild, das schrittweise so verändert wird, sodass der neu entstandene Bild besser an das Zielbild angepasst ist als das vorherige.\n",
        "\n",
        "Dieser Algorithmus ist vergleichbar mit Mutationen in Bakterien: Mit jedem Teilen eines Individuums kommt es zu kleinen zufälligen Mutationen. Ist das sich ergebene Individuum besser angepasst, so soll es überleben und kann sich ebenfalls teilen.\n",
        "\n",
        "*Anmerkung:* Hierbei handelt es sich um einen sehr einfachen Genetischen Algorithmus (GA). In komplizierteren Algorithmen werden beispielsweise auch Kreuzungen berücksichtigt. Nähere Informationen finden sich beispielsweise [hier](https://de.wikipedia.org/wiki/Evolution%C3%A4rer_Algorithmus).\n",
        "\n",
        "### Hilfreiche Numpy-Funktionen\n",
        "- ```np.min```, ```np.max```: geben Minimum bzw. Maximum zurück\n",
        "- ```np.shape```: Gibt die jewilige Dimensionszahl zurück (hier: Höhe, Breite und Anzahl Farbkanäle)\n",
        "- ```np.random.rand```: Erstellt gleichverteilte Zufallszahlen zwischen 0 und 1\n",
        "- ```np.random.rand```: Erstellt standardnormalverteilte Zufallszahlen (Mittelwert 0 und Standardabweichung 1)\n",
        "- ```np.zeros```: Erstellt Liste mit Nullen\n",
        "- ```np.sum```: Berechnet die Summe eines gegeben Numpy-Arrays"
      ]
    },
    {
      "cell_type": "code",
      "execution_count": null,
      "metadata": {
        "id": "hYpCukw09Pa3"
      },
      "outputs": [],
      "source": [
        "import numpy as np              # Numpy\n",
        "import matplotlib.pyplot as plt # Matplotlib zum Plotten\n",
        "from skimage.io import imread   # Zum Laden von Bildern aus Links\n",
        "from tqdm.auto import trange    # Progressbar (für \"hübschere\" Wartezeiten)\n",
        "\n",
        "def get_mask(h, b, c):\n",
        "    return np.random.rand(h, b, c)>0.999\n",
        "\n",
        "# Lade und normalisiere Bild\n",
        "image_url = \"https://upload.wikimedia.org/wikipedia/commons/thumb/e/ec/Mona_Lisa%2C_by_Leonardo_da_Vinci%2C_from_C2RMF_retouched.jpg/1024px-Mona_Lisa%2C_by_Leonardo_da_Vinci%2C_from_C2RMF_retouched.jpg\"\n",
        "target = imread(image_url).astype(float)[::32,::32]\n",
        "target -= np.min(target)\n",
        "target /= np.max(target)\n",
        "print(target.shape)\n",
        "h, b, c = target.shape\n",
        "\n",
        "plt.figure()\n",
        "plt.imshow(target)\n",
        "plt.show()\n",
        "\n",
        "# Initialisiere Rauschbild\n",
        "img = np.random.rand(h, b, c)\n",
        "\n",
        "# -----------------------------------------\n",
        "# Hier kommt der eigene Code rein!\n",
        "\n",
        "\n",
        "\n",
        "\n",
        "\n",
        "\n",
        "# -----------------------------------------\n",
        "\n",
        "plt.figure(figsize=[12,5])\n",
        "plt.subplot(1,3,1)\n",
        "plt.imshow(target)\n",
        "plt.subplot(1,3,2)\n",
        "plt.imshow(img)\n",
        "plt.subplot(1,3,3)\n",
        "plt.imshow(np.abs(img-target), vmin=0, vmax=1)\n",
        "plt.show()\n",
        "\n",
        "plt.figure()\n",
        "plt.plot(losslist)\n",
        "plt.show()\n",
        "print(losslist[-1])"
      ]
    },
    {
      "cell_type": "markdown",
      "metadata": {
        "id": "q-F0yZo3FeKR"
      },
      "source": [
        "## Lösungsvorschlag"
      ]
    },
    {
      "cell_type": "code",
      "execution_count": null,
      "metadata": {
        "id": "4FFL1Ed7FdAE"
      },
      "outputs": [],
      "source": [
        "import numpy as np\n",
        "import matplotlib.pyplot as plt\n",
        "from skimage.io import imread\n",
        "from tqdm.auto import trange\n",
        "\n",
        "def get_mask(h, b, c):\n",
        "    return np.random.rand(h, b, c)>0.999\n",
        "\n",
        "# Lade und normalisiere Bild\n",
        "image_url = \"https://upload.wikimedia.org/wikipedia/commons/thumb/e/ec/Mona_Lisa%2C_by_Leonardo_da_Vinci%2C_from_C2RMF_retouched.jpg/1024px-Mona_Lisa%2C_by_Leonardo_da_Vinci%2C_from_C2RMF_retouched.jpg\"\n",
        "target = imread(image_url).astype(float)[::32,::32]\n",
        "target -= np.min(target)\n",
        "target /= np.max(target)\n",
        "print(target.shape)\n",
        "h, b, c = target.shape\n",
        "\n",
        "plt.figure()\n",
        "plt.imshow(target)\n",
        "plt.show()\n",
        "\n",
        "# Initialisiere Rauschbild\n",
        "img = np.random.rand(h, b, c)\n",
        "bestloss = np.sum((img-target)**2)\n",
        "\n",
        "# -----------------------------------------\n",
        "# Hier kommt der eigene Code rein!\n",
        "n_epochs = 50_000\n",
        "lr = 0.1\n",
        "losslist = np.zeros(n_epochs)\n",
        "\n",
        "trainbar = trange(n_epochs)\n",
        "\n",
        "for epoch in trainbar:\n",
        "    img_neu = img.copy()\n",
        "    d_img = np.random.randn(h, b, c)\n",
        "    mask = get_mask(h, b, c)\n",
        "\n",
        "    img_neu[mask] = img_neu[mask]+lr*d_img[mask]\n",
        "    img_neu[img_neu>1] = 1\n",
        "    img_neu[img_neu<0] = 0\n",
        "    loss = np.sum((img_neu-target)**2)\n",
        "    if bestloss>loss:\n",
        "        img = img_neu\n",
        "        bestloss = loss\n",
        "\n",
        "    losslist[epoch] = bestloss\n",
        "    if epoch%100==0:\n",
        "        trainbar.set_description(f\"Loss: {bestloss:.2f}\")\n",
        "# -----------------------------------------\n",
        "\n",
        "plt.figure(figsize=[12,5])\n",
        "plt.subplot(1,3,1)\n",
        "plt.imshow(target)\n",
        "plt.subplot(1,3,2)\n",
        "plt.imshow(img)\n",
        "plt.subplot(1,3,3)\n",
        "plt.imshow(np.abs(img-target), vmin=0, vmax=1)\n",
        "plt.show()\n",
        "\n",
        "plt.figure()\n",
        "plt.plot(losslist)\n",
        "plt.show()\n",
        "print(losslist[-1])"
      ]
    }
  ],
  "metadata": {
    "colab": {
      "provenance": []
    },
    "kernelspec": {
      "display_name": "Python 3",
      "name": "python3"
    },
    "language_info": {
      "name": "python"
    }
  },
  "nbformat": 4,
  "nbformat_minor": 0
}
