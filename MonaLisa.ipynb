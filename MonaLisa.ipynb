{
  "nbformat": 4,
  "nbformat_minor": 0,
  "metadata": {
    "colab": {
      "provenance": []
    },
    "kernelspec": {
      "name": "python3",
      "display_name": "Python 3"
    },
    "language_info": {
      "name": "python"
    }
  },
  "cells": [
    {
      "cell_type": "code",
      "execution_count": null,
      "metadata": {
        "id": "hYpCukw09Pa3"
      },
      "outputs": [],
      "source": [
        "import numpy as np\n",
        "import matplotlib.pyplot as plt\n",
        "from skimage.io import imread\n",
        "from tqdm.auto import trange\n",
        "\n",
        "def get_mask(h, b, c):\n",
        "    return np.random.rand(h, b, c)>0.999\n",
        "\n",
        "# Lade und normalisiere Bild\n",
        "image_url = \"https://cdn.pariscityvision.com/library/image/5449.jpg\"\n",
        "target = imread(image_url).astype(float)[::32,::32]\n",
        "target -= np.min(target)\n",
        "target /= np.max(target)\n",
        "print(target.shape)\n",
        "h, b, c = target.shape\n",
        "\n",
        "plt.figure()\n",
        "plt.imshow(target)\n",
        "plt.show()\n",
        "\n",
        "# Initialisiere Rauschbild\n",
        "img = np.random.rand(h, b, c)\n",
        "\n",
        "# -----------------------------------------\n",
        "# Hier kommt der eigene Code rein!\n",
        "\n",
        "\n",
        "\n",
        "\n",
        "\n",
        "\n",
        "# -----------------------------------------\n",
        "\n",
        "plt.figure(figsize=[12,5])\n",
        "plt.subplot(1,3,1)\n",
        "plt.imshow(target)\n",
        "plt.subplot(1,3,2)\n",
        "plt.imshow(img)\n",
        "plt.subplot(1,3,3)\n",
        "plt.imshow(np.abs(img-target), vmin=0, vmax=1)\n",
        "plt.show()\n",
        "\n",
        "plt.figure()\n",
        "plt.plot(losslist)\n",
        "plt.show()\n",
        "print(losslist[-1])"
      ]
    }
  ]
}