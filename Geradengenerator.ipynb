{
  "nbformat": 4,
  "nbformat_minor": 0,
  "metadata": {
    "colab": {
      "provenance": []
    },
    "kernelspec": {
      "name": "python3",
      "display_name": "Python 3"
    },
    "language_info": {
      "name": "python"
    }
  },
  "cells": [
    {
      "cell_type": "code",
      "execution_count": null,
      "metadata": {
        "id": "ZEc8JfofwlPh"
      },
      "outputs": [],
      "source": [
        "!wget -nc https://raw.githubusercontent.com/inb-luebeck/CS4230-S/main/utils/utils_gerade.py\n",
        "from utils_gerade import gerade, setup\n",
        "\n",
        "func = lambda pt: w1*pt[0]+w2*pt[1]-theta\n",
        "\n",
        "pts = setup()\n",
        "\n",
        "print(\"Trage die (ganzzahligen) Gewichte und den Bias ein.\")\n",
        "w1 = input(\"w1: \")\n",
        "w2 = input(\"w2: \")\n",
        "theta = input(\"theta: \")\n",
        "\n",
        "gerade(w1, w2, theta)\n",
        "w1, w2, theta = float(w1), float(w2), float(theta)\n",
        "\n",
        "if func(pts[0])==0 and func(pts[1])==0:\n",
        "    print(\"Richtig! Sehr gut :-)\")\n",
        "else:\n",
        "    print(\"Das war leider nicht richtig :-(\")"
      ]
    }
  ]
}