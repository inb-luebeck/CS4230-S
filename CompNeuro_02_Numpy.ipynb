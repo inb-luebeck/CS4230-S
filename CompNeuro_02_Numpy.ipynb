{
  "nbformat": 4,
  "nbformat_minor": 0,
  "metadata": {
    "colab": {
      "provenance": []
    },
    "kernelspec": {
      "name": "python3",
      "display_name": "Python 3"
    },
    "language_info": {
      "name": "python"
    }
  },
  "cells": [
    {
      "cell_type": "markdown",
      "source": [
        "# Numpy"
      ],
      "metadata": {
        "id": "a9Le15JIkern"
      }
    },
    {
      "cell_type": "code",
      "execution_count": null,
      "metadata": {
        "colab": {
          "base_uri": "https://localhost:8080/"
        },
        "id": "pZYyhSIaKJVg",
        "outputId": "3f0cf3b6-f04b-44c6-eb97-268412b4a0b5"
      },
      "outputs": [
        {
          "output_type": "stream",
          "name": "stdout",
          "text": [
            "[6, 6, 6]\n",
            "[6 6 6]\n",
            "<class 'numpy.ndarray'>\n"
          ]
        }
      ],
      "source": [
        "import numpy as np # \"Importiere das Package Numpy und nenne es np\"\n",
        "\n",
        "# Funktion zur punktweisen Addition zweier Vektoren (hier: Listen)\n",
        "def addiere(a, b):\n",
        "    c = []\n",
        "    for i in range(len(a)):\n",
        "        c.append(a[i]+b[i])\n",
        "\n",
        "    return c\n",
        "\n",
        "werte1 = [2,3,4]\n",
        "werte2 = [4,3,2]\n",
        "\n",
        "# Erstelle Vektor als Numpy-Array\n",
        "#w1 = np.array([2,3,4])\n",
        "w1 = np.array(werte1)\n",
        "w2 = np.array(werte2)\n",
        "\n",
        "print(addiere(werte1, werte2))  # Funktionsaufruf\n",
        "print(w1+w2)    # Alternative mit Numpy\n",
        "print(type(w1))"
      ]
    },
    {
      "cell_type": "code",
      "source": [
        "# Funktion zur punktweisen Multiplikation zweier Vektoren\n",
        "def multipliziere(a, b):\n",
        "    #c = a+b\n",
        "    # c = a\n",
        "    c = []\n",
        "    for i in range(len(a)):\n",
        "        c.append(a[i]*b[i])\n",
        "\n",
        "    return c\n",
        "\n",
        "print(multipliziere(werte1, werte2))    # Funktionsaufruf\n",
        "print(w1*w2)    # Alternative mit Numpy"
      ],
      "metadata": {
        "colab": {
          "base_uri": "https://localhost:8080/"
        },
        "id": "eeF6JHcidgIz",
        "outputId": "9bdc77ca-41e2-4e90-ff53-274eaf4566dd"
      },
      "execution_count": null,
      "outputs": [
        {
          "output_type": "stream",
          "name": "stdout",
          "text": [
            "[8, 9, 8]\n",
            "[8 9 8]\n"
          ]
        }
      ]
    },
    {
      "cell_type": "code",
      "source": [
        "# Funktion zum Berechnen des Skalarprodukts\n",
        "def skalarprodukt(a, b):\n",
        "    prod = multipliziere(a,b)\n",
        "    c = 0\n",
        "    for i in range(len(prod)):\n",
        "        c = c+prod[i]\n",
        "    return c\n",
        "\n",
        "print(skalarprodukt(werte1, werte2))    # Funktionsaufruf\n",
        "\n",
        "# Alternativen mit Numpy\n",
        "print(w1@w2)    # \"Skalarprodukt-Operator\" (den sieht und nutzt man sehr häufig)\n",
        "print(np.matmul(w1, w2))    # https://numpy.org/doc/stable/reference/generated/numpy.matmul.html\n",
        "print(np.dot(w1, w2))   # https://numpy.org/doc/stable/reference/generated/numpy.dot.html"
      ],
      "metadata": {
        "colab": {
          "base_uri": "https://localhost:8080/"
        },
        "id": "mvqi47p6f-lr",
        "outputId": "c5b4a5a6-ccfa-448b-df0b-75bcf58037e5"
      },
      "execution_count": null,
      "outputs": [
        {
          "output_type": "stream",
          "name": "stdout",
          "text": [
            "25\n",
            "25\n",
            "25\n",
            "25\n"
          ]
        }
      ]
    }
  ]
}