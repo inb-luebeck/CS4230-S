{
  "nbformat": 4,
  "nbformat_minor": 0,
  "metadata": {
    "colab": {
      "provenance": []
    },
    "kernelspec": {
      "name": "python3",
      "display_name": "Python 3"
    },
    "language_info": {
      "name": "python"
    }
  },
  "cells": [
    {
      "cell_type": "markdown",
      "source": [
        "# Faltung"
      ],
      "metadata": {
        "id": "rnzHIcZz97-H"
      }
    },
    {
      "cell_type": "code",
      "execution_count": null,
      "metadata": {
        "id": "l3h5axML9wyx"
      },
      "outputs": [],
      "source": [
        "import numpy as np\n",
        "import matplotlib.pyplot as plt\n",
        "from skimage.io import imread\n",
        "! wget -nc https://raw.githubusercontent.com/inb-luebeck/CS4230-S/main/utils/utils_bv.py\n",
        "from utils_bv import conv2d, conv2d_normed"
      ]
    },
    {
      "cell_type": "markdown",
      "source": [
        "## Filter anwenden"
      ],
      "metadata": {
        "id": "aqclroZ9Angx"
      }
    },
    {
      "cell_type": "code",
      "source": [
        "# Lade und normalisiere Bild\n",
        "image_url = \"https://cdn.pariscityvision.com/library/image/5449.jpg\"\n",
        "target = imread(image_url).astype(float)[::4,::4]@np.array([0.2989, 0.5870, 0.114])\n",
        "target -= np.min(target)\n",
        "target /= np.max(target)\n",
        "target = target[:,:,None]\n",
        "h, b, c = target.shape\n",
        "\n",
        "# --- Hier kommt der Kernel rein ---\n",
        "kernel = np.array([\n",
        "    [ 1, 0,-1],\n",
        "    [ 1, 0,-1],\n",
        "    [ 1, 0,-1], \n",
        "])\n",
        "\n",
        "n_wiederholungen = 1\n",
        "# ----------------------------------\n",
        "\n",
        "img = target.copy()\n",
        "for i in range(n_wiederholungen):\n",
        "    img = conv2d(img, kernel)\n",
        "img -= np.min(img)\n",
        "img /= np.max(img)\n",
        "plt.figure()\n",
        "plt.subplot(1,2,1)\n",
        "plt.imshow(target)\n",
        "plt.subplot(1,2,2)\n",
        "plt.imshow(img)\n",
        "plt.show()\n"
      ],
      "metadata": {
        "id": "ZiqwS5Ci-AlW"
      },
      "execution_count": null,
      "outputs": []
    },
    {
      "cell_type": "markdown",
      "source": [
        "## Strukturen finden"
      ],
      "metadata": {
        "id": "MjVanNaEApeD"
      }
    },
    {
      "cell_type": "code",
      "source": [
        "# Lade und normalisiere Bild\n",
        "image_url = \"https://cdn.pariscityvision.com/library/image/5449.jpg\"\n",
        "target = imread(image_url).astype(float)[::4,::4]@np.array([0.2989, 0.5870, 0.114])\n",
        "target -= np.min(target)\n",
        "target /= np.max(target)\n",
        "target = target[:,:,None]\n",
        "h, b, c = target.shape\n",
        "target_normalized = target-np.mean(target)\n",
        "\n",
        "# --- Hier kann der Ausschnitt geändert werden! ---\n",
        "zeile_von = 80\n",
        "zeile_bis = 95\n",
        "spalte_von = 90\n",
        "spalte_bis = 115\n",
        "threshold = 0.9\n",
        "# -------------------------------------------------\n",
        "\n",
        "kernel = target_normalized[zeile_von:zeile_bis,spalte_von:spalte_bis, 0]\n",
        "\n",
        "img = conv2d_normed(target_normalized, kernel)\n",
        "img_thresh = img.copy()\n",
        "img_thresh[img>threshold] = 1\n",
        "img_thresh[img<=threshold] = 0\n",
        "\n",
        "plt.figure(figsize=[7,7])\n",
        "plt.subplot(2,2,1)\n",
        "plt.imshow(target)\n",
        "plt.plot([spalte_von,spalte_von, spalte_bis, spalte_bis, spalte_von], [zeile_von,zeile_bis, zeile_bis, zeile_von, zeile_von], \"r\")\n",
        "plt.subplot(2,2,2)\n",
        "plt.imshow(kernel)\n",
        "plt.subplot(2,2,3)\n",
        "plt.imshow(img)\n",
        "plt.subplot(2,2,4)\n",
        "plt.imshow(img_thresh)\n",
        "plt.show()\n"
      ],
      "metadata": {
        "id": "Ucy46dRIAlqG"
      },
      "execution_count": null,
      "outputs": []
    }
  ]
}
